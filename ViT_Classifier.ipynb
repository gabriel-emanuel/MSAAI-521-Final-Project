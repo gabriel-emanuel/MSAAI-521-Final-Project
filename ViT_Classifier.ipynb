{
 "cells": [
  {
   "cell_type": "code",
   "execution_count": 1,
   "metadata": {},
   "outputs": [
    {
     "name": "stderr",
     "output_type": "stream",
     "text": [
      "c:\\Users\\gabri\\anaconda3\\envs\\Torch_NLP\\lib\\site-packages\\tqdm\\auto.py:21: TqdmWarning: IProgress not found. Please update jupyter and ipywidgets. See https://ipywidgets.readthedocs.io/en/stable/user_install.html\n",
      "  from .autonotebook import tqdm as notebook_tqdm\n"
     ]
    }
   ],
   "source": [
    "from transformers import ViTForImageClassification, ViTFeatureExtractor, TrainingArguments, Trainer\n",
    "from datasets import load_dataset, Dataset\n",
    "import torch\n",
    "from torchvision import datasets, transforms\n",
    "from pathlib import Path\n",
    "import pandas as pd\n",
    "import numpy as np\n",
    "from sklearn.metrics import classification_report\n",
    "import matplotlib.pyplot as plt"
   ]
  },
  {
   "cell_type": "code",
   "execution_count": 41,
   "metadata": {},
   "outputs": [],
   "source": [
    "train_dataset_path = \"C:\\MSAAI\\AAI-521\\Final Project Data\\Transformer Data\\Training Data\"\n",
    "train_metadata_csv = \"C:\\MSAAI\\AAI-521\\Final Project Data\\Transformer Data\\metadata_train.csv\"\n",
    "\n",
    "val_dataset_path = \"C:\\MSAAI\\AAI-521\\Final Project Data\\Transformer Data\\Validation Data\"\n",
    "val_metadata_csv = \"C:\\MSAAI\\AAI-521\\Final Project Data\\Transformer Data\\metadata_val.csv\""
   ]
  },
  {
   "cell_type": "code",
   "execution_count": 42,
   "metadata": {},
   "outputs": [],
   "source": [
    "train_metadata = pd.read_csv(\"C:\\MSAAI\\AAI-521\\Final Project Data\\Transformer Data\\metadata_train.csv\")\n",
    "val_metadata = pd.read_csv(\"C:\\MSAAI\\AAI-521\\Final Project Data\\Transformer Data\\metadata_val.csv\")"
   ]
  },
  {
   "cell_type": "code",
   "execution_count": 43,
   "metadata": {},
   "outputs": [],
   "source": [
    "transform = transforms.Compose([\n",
    "    transforms.Resize((224, 224)),\n",
    "    transforms.ToTensor(),\n",
    "    transforms.Normalize(mean=[0.5], std=[0.5]),  # Normalize between -1 and 1\n",
    "])"
   ]
  },
  {
   "cell_type": "code",
   "execution_count": 44,
   "metadata": {},
   "outputs": [],
   "source": [
    "train_dataset = datasets.ImageFolder(root=train_dataset_path, transform=transform)\n",
    "val_dataset = datasets.ImageFolder(root=val_dataset_path, transform=transform)"
   ]
  },
  {
   "cell_type": "code",
   "execution_count": null,
   "metadata": {},
   "outputs": [
    {
     "name": "stderr",
     "output_type": "stream",
     "text": [
      "Some weights of ViTForImageClassification were not initialized from the model checkpoint at google/vit-base-patch16-224 and are newly initialized because the shapes did not match:\n",
      "- classifier.bias: found shape torch.Size([1000]) in the checkpoint and torch.Size([7]) in the model instantiated\n",
      "- classifier.weight: found shape torch.Size([1000, 768]) in the checkpoint and torch.Size([7, 768]) in the model instantiated\n",
      "You should probably TRAIN this model on a down-stream task to be able to use it for predictions and inference.\n"
     ]
    }
   ],
   "source": [
    "model = ViTForImageClassification.from_pretrained(\n",
    "    \"google/vit-base-patch16-224\",\n",
    "    num_labels=len(train_dataset.classes),\n",
    "    ignore_mismatched_sizes=True\n",
    ")"
   ]
  },
  {
   "cell_type": "code",
   "execution_count": 46,
   "metadata": {},
   "outputs": [
    {
     "name": "stdout",
     "output_type": "stream",
     "text": [
      "Using device: cuda\n"
     ]
    }
   ],
   "source": [
    "device = torch.device(\"cuda\" if torch.cuda.is_available() else \"cpu\")\n",
    "print(f\"Using device: {device}\")"
   ]
  },
  {
   "cell_type": "code",
   "execution_count": 47,
   "metadata": {},
   "outputs": [
    {
     "data": {
      "text/plain": [
       "ViTForImageClassification(\n",
       "  (vit): ViTModel(\n",
       "    (embeddings): ViTEmbeddings(\n",
       "      (patch_embeddings): ViTPatchEmbeddings(\n",
       "        (projection): Conv2d(3, 768, kernel_size=(16, 16), stride=(16, 16))\n",
       "      )\n",
       "      (dropout): Dropout(p=0.0, inplace=False)\n",
       "    )\n",
       "    (encoder): ViTEncoder(\n",
       "      (layer): ModuleList(\n",
       "        (0-11): 12 x ViTLayer(\n",
       "          (attention): ViTSdpaAttention(\n",
       "            (attention): ViTSdpaSelfAttention(\n",
       "              (query): Linear(in_features=768, out_features=768, bias=True)\n",
       "              (key): Linear(in_features=768, out_features=768, bias=True)\n",
       "              (value): Linear(in_features=768, out_features=768, bias=True)\n",
       "              (dropout): Dropout(p=0.0, inplace=False)\n",
       "            )\n",
       "            (output): ViTSelfOutput(\n",
       "              (dense): Linear(in_features=768, out_features=768, bias=True)\n",
       "              (dropout): Dropout(p=0.0, inplace=False)\n",
       "            )\n",
       "          )\n",
       "          (intermediate): ViTIntermediate(\n",
       "            (dense): Linear(in_features=768, out_features=3072, bias=True)\n",
       "            (intermediate_act_fn): GELUActivation()\n",
       "          )\n",
       "          (output): ViTOutput(\n",
       "            (dense): Linear(in_features=3072, out_features=768, bias=True)\n",
       "            (dropout): Dropout(p=0.0, inplace=False)\n",
       "          )\n",
       "          (layernorm_before): LayerNorm((768,), eps=1e-12, elementwise_affine=True)\n",
       "          (layernorm_after): LayerNorm((768,), eps=1e-12, elementwise_affine=True)\n",
       "        )\n",
       "      )\n",
       "    )\n",
       "    (layernorm): LayerNorm((768,), eps=1e-12, elementwise_affine=True)\n",
       "  )\n",
       "  (classifier): Linear(in_features=768, out_features=7, bias=True)\n",
       ")"
      ]
     },
     "execution_count": 47,
     "metadata": {},
     "output_type": "execute_result"
    }
   ],
   "source": [
    "model.to(device)"
   ]
  },
  {
   "cell_type": "code",
   "execution_count": 48,
   "metadata": {},
   "outputs": [
    {
     "name": "stderr",
     "output_type": "stream",
     "text": [
      "c:\\Users\\gabri\\anaconda3\\envs\\Torch_NLP\\lib\\site-packages\\transformers\\models\\vit\\feature_extraction_vit.py:28: FutureWarning: The class ViTFeatureExtractor is deprecated and will be removed in version 5 of Transformers. Please use ViTImageProcessor instead.\n",
      "  warnings.warn(\n",
      "\n",
      "\n",
      "\n",
      "\u001b[A\u001b[A\u001b[A\n",
      "\n",
      "\n",
      "\u001b[A\u001b[A\u001b[A\n",
      "\n",
      "\n",
      "\u001b[A\u001b[A\u001b[A\n",
      "\n",
      "\n",
      " 18%|█▊        | 500/2770 [29:44<2:15:00,  3.57s/it]\n",
      "\n",
      "\n",
      "\n",
      "\u001b[A\u001b[A\u001b[A\n",
      "\n",
      "\n",
      "\u001b[A\u001b[A\u001b[A\n",
      "\n",
      "\n",
      "\u001b[A\u001b[A\u001b[A\n",
      "\n",
      "\n",
      "\u001b[A\u001b[A\u001b[A\n",
      "\n",
      "\n",
      "\u001b[A\u001b[A\u001b[A\n",
      "\n",
      "\n",
      "Map: 100%|██████████| 8864/8864 [00:34<00:00, 256.31 examples/s]\n",
      "Map: 100%|██████████| 1094/1094 [00:03<00:00, 284.34 examples/s]\n"
     ]
    }
   ],
   "source": [
    "from PIL import Image\n",
    "\n",
    "# Load the feature extractor\n",
    "feature_extractor = ViTFeatureExtractor.from_pretrained(\"google/vit-base-patch16-224\")\n",
    "\n",
    "# Function to preprocess datasets\n",
    "def preprocess_dataset(dataset):\n",
    "    image_paths = [sample[0] for sample in dataset.samples]\n",
    "    labels = [sample[1] for sample in dataset.samples]\n",
    "\n",
    "    def preprocess(images, labels):\n",
    "        # Load images and preprocess\n",
    "        processed_images = [Image.open(image_path).convert(\"RGB\") for image_path in images]\n",
    "        pixel_values = feature_extractor(processed_images, return_tensors=\"pt\")[\"pixel_values\"]\n",
    "        return {\"pixel_values\": pixel_values, \"labels\": torch.tensor(labels)}\n",
    "\n",
    "    dataset = Dataset.from_dict({\"image_path\": image_paths, \"label\": labels})\n",
    "    return dataset.map(lambda x: preprocess(x[\"image_path\"], x[\"label\"]), batched=True)\n",
    "\n",
    "# Preprocess training and validation datasets\n",
    "train_hf_dataset = preprocess_dataset(train_dataset)\n",
    "val_hf_dataset = preprocess_dataset(val_dataset)"
   ]
  },
  {
   "cell_type": "code",
   "execution_count": null,
   "metadata": {},
   "outputs": [
    {
     "name": "stderr",
     "output_type": "stream",
     "text": [
      "c:\\Users\\gabri\\anaconda3\\envs\\Torch_NLP\\lib\\site-packages\\transformers\\training_args.py:1525: FutureWarning: `evaluation_strategy` is deprecated and will be removed in version 4.46 of 🤗 Transformers. Use `eval_strategy` instead\n",
      "  warnings.warn(\n",
      "c:\\Users\\gabri\\anaconda3\\envs\\Torch_NLP\\lib\\site-packages\\accelerate\\accelerator.py:494: FutureWarning: `torch.cuda.amp.GradScaler(args...)` is deprecated. Please use `torch.amp.GradScaler('cuda', args...)` instead.\n",
      "  self.scaler = torch.cuda.amp.GradScaler(**kwargs)\n"
     ]
    }
   ],
   "source": [
    "from transformers import TrainingArguments, Trainer\n",
    "\n",
    "# Define training arguments\n",
    "training_args = TrainingArguments(\n",
    "    output_dir=\"./vit-finetune-results\",\n",
    "    evaluation_strategy=\"steps\",\n",
    "    eval_steps=500,\n",
    "    save_steps=500,\n",
    "    per_device_train_batch_size=16,\n",
    "    per_device_eval_batch_size=16,\n",
    "    num_train_epochs=5,\n",
    "    learning_rate=5e-5,\n",
    "    weight_decay=0.01,\n",
    "    logging_dir=\"./logs\",\n",
    "    logging_steps=100,\n",
    "    load_best_model_at_end=True,\n",
    "    save_total_limit=2,\n",
    "    fp16=True,  \n",
    "    report_to=\"none\",  \n",
    ")\n",
    "\n",
    "# Function to compute metrics, including per-class accuracy\n",
    "def compute_metrics(eval_pred):\n",
    "    predictions, labels = eval_pred\n",
    "    preds = np.argmax(predictions, axis=1)\n",
    "    report = classification_report(labels, preds, target_names=train_dataset.classes, output_dict=True)\n",
    "    \n",
    "    # Print per-class accuracy\n",
    "    print(\"\\nPer-Class Accuracy:\")\n",
    "    for class_name, metrics in report.items():\n",
    "        if isinstance(metrics, dict):\n",
    "            print(f\"{class_name}: {metrics['precision'] * 100:.2f}%\")\n",
    "\n",
    "    # Return overall metrics for Trainer\n",
    "    return {\n",
    "        \"accuracy\": report[\"accuracy\"],\n",
    "        \"precision\": np.mean([metrics[\"precision\"] for metrics in report.values() if isinstance(metrics, dict)]),\n",
    "        \"recall\": np.mean([metrics[\"recall\"] for metrics in report.values() if isinstance(metrics, dict)]),\n",
    "        \"f1\": np.mean([metrics[\"f1-score\"] for metrics in report.values() if isinstance(metrics, dict)]),\n",
    "    }\n",
    "\n",
    "# Define the Trainer\n",
    "trainer = Trainer(\n",
    "    model=model,\n",
    "    args=training_args,\n",
    "    train_dataset=train_hf_dataset,\n",
    "    eval_dataset=val_hf_dataset,\n",
    "    tokenizer=feature_extractor,\n",
    "    compute_metrics=compute_metrics,\n",
    ")"
   ]
  },
  {
   "cell_type": "code",
   "execution_count": 50,
   "metadata": {},
   "outputs": [
    {
     "name": "stderr",
     "output_type": "stream",
     "text": [
      "  4%|▎         | 100/2770 [01:19<34:01,  1.31it/s]\n",
      "\n",
      "\u001b[A\u001b[A                                            \n",
      "\n",
      "\n",
      "                                                  \n",
      "\u001b[A\n",
      "\n",
      "  4%|▎         | 100/2770 [01:19<34:01,  1.31it/s]"
     ]
    },
    {
     "name": "stdout",
     "output_type": "stream",
     "text": [
      "{'loss': 0.8743, 'grad_norm': 8.041891098022461, 'learning_rate': 4.82129963898917e-05, 'epoch': 0.18}\n"
     ]
    },
    {
     "name": "stderr",
     "output_type": "stream",
     "text": [
      "  7%|▋         | 200/2770 [02:40<34:06,  1.26it/s]\n",
      "\n",
      "\u001b[A\u001b[A                                            \n",
      "\n",
      "\n",
      "                                                  \n",
      "\u001b[A\n",
      "\n",
      "  7%|▋         | 200/2770 [02:40<34:06,  1.26it/s]"
     ]
    },
    {
     "name": "stdout",
     "output_type": "stream",
     "text": [
      "{'loss': 0.6424, 'grad_norm': 8.900994300842285, 'learning_rate': 4.640794223826715e-05, 'epoch': 0.36}\n"
     ]
    },
    {
     "name": "stderr",
     "output_type": "stream",
     "text": [
      " 11%|█         | 300/2770 [03:59<32:29,  1.27it/s]\n",
      "\n",
      "\u001b[A\u001b[A                                            \n",
      "\n",
      "\n",
      "                                                  \n",
      "\u001b[A\n",
      "\n",
      " 11%|█         | 300/2770 [03:59<32:29,  1.27it/s]"
     ]
    },
    {
     "name": "stdout",
     "output_type": "stream",
     "text": [
      "{'loss': 0.5732, 'grad_norm': 7.524267196655273, 'learning_rate': 4.46028880866426e-05, 'epoch': 0.54}\n"
     ]
    },
    {
     "name": "stderr",
     "output_type": "stream",
     "text": [
      " 14%|█▍        | 400/2770 [05:18<31:25,  1.26it/s]\n",
      "\n",
      "\u001b[A\u001b[A                                            \n",
      "\n",
      "\n",
      "                                                  \n",
      "\u001b[A\n",
      "\n",
      " 14%|█▍        | 400/2770 [05:18<31:25,  1.26it/s]"
     ]
    },
    {
     "name": "stdout",
     "output_type": "stream",
     "text": [
      "{'loss': 0.5017, 'grad_norm': 6.2072248458862305, 'learning_rate': 4.279783393501805e-05, 'epoch': 0.72}\n"
     ]
    },
    {
     "name": "stderr",
     "output_type": "stream",
     "text": [
      " 18%|█▊        | 500/2770 [06:38<29:38,  1.28it/s]\n",
      "\n",
      "\u001b[A\u001b[A                                            \n",
      "\n",
      "\n",
      "                                                  \n",
      "\u001b[A\n",
      "\n",
      " 18%|█▊        | 500/2770 [06:38<29:38,  1.28it/s]"
     ]
    },
    {
     "name": "stdout",
     "output_type": "stream",
     "text": [
      "{'loss': 0.4966, 'grad_norm': 9.182103157043457, 'learning_rate': 4.0992779783393506e-05, 'epoch': 0.9}\n"
     ]
    },
    {
     "name": "stderr",
     "output_type": "stream",
     "text": [
      "\n",
      "\u001b[A                                            \n",
      "\n",
      "\u001b[A\u001b[A                                            \n",
      "\n",
      "\n",
      "                                                  \n",
      "\u001b[A\n",
      "\n",
      " 18%|█▊        | 500/2770 [07:31<29:38,  1.28it/s]"
     ]
    },
    {
     "name": "stdout",
     "output_type": "stream",
     "text": [
      "\n",
      "Per-Class Accuracy:\n",
      "akiec: 100.00%\n",
      "bcc: 76.92%\n",
      "bkl: 63.16%\n",
      "df: 71.43%\n",
      "mel: 41.18%\n",
      "nv: 92.83%\n",
      "vasc: 92.31%\n",
      "macro avg: 76.83%\n",
      "weighted avg: 87.85%\n",
      "{'eval_loss': 0.31588634848594666, 'eval_accuracy': 0.8893967093235832, 'eval_precision': 0.7805550262086154, 'eval_recall': 0.6100277639207221, 'eval_f1': 0.6316084738077187, 'eval_runtime': 52.9763, 'eval_samples_per_second': 20.651, 'eval_steps_per_second': 1.302, 'epoch': 0.9}\n"
     ]
    },
    {
     "name": "stderr",
     "output_type": "stream",
     "text": [
      " 22%|██▏       | 600/2770 [08:50<29:10,  1.24it/s]   \n",
      "\n",
      "\u001b[A\u001b[A                                            \n",
      "\n",
      "\n",
      "                                                  \n",
      "\u001b[A\n",
      "\n",
      " 22%|██▏       | 600/2770 [08:51<29:10,  1.24it/s]"
     ]
    },
    {
     "name": "stdout",
     "output_type": "stream",
     "text": [
      "{'loss': 0.3758, 'grad_norm': 5.233223915100098, 'learning_rate': 3.9187725631768956e-05, 'epoch': 1.08}\n"
     ]
    },
    {
     "name": "stderr",
     "output_type": "stream",
     "text": [
      " 25%|██▌       | 700/2770 [10:10<26:45,  1.29it/s]\n",
      "\n",
      "\u001b[A\u001b[A                                            \n",
      "\n",
      "\n",
      "                                                  \n",
      "\u001b[A\n",
      "\n",
      " 25%|██▌       | 700/2770 [10:10<26:45,  1.29it/s]"
     ]
    },
    {
     "name": "stdout",
     "output_type": "stream",
     "text": [
      "{'loss': 0.3071, 'grad_norm': 1.5983847379684448, 'learning_rate': 3.7382671480144405e-05, 'epoch': 1.26}\n"
     ]
    },
    {
     "name": "stderr",
     "output_type": "stream",
     "text": [
      " 29%|██▉       | 800/2770 [11:30<25:08,  1.31it/s]\n",
      "\n",
      "\u001b[A\u001b[A                                            \n",
      "\n",
      "\n",
      "                                                  \n",
      "\u001b[A\n",
      "\n",
      " 29%|██▉       | 800/2770 [11:30<25:08,  1.31it/s]"
     ]
    },
    {
     "name": "stdout",
     "output_type": "stream",
     "text": [
      "{'loss': 0.2517, 'grad_norm': 6.933020114898682, 'learning_rate': 3.5577617328519854e-05, 'epoch': 1.44}\n"
     ]
    },
    {
     "name": "stderr",
     "output_type": "stream",
     "text": [
      " 32%|███▏      | 900/2770 [12:49<24:32,  1.27it/s]\n",
      "\n",
      "\u001b[A\u001b[A                                            \n",
      "\n",
      "\n",
      "                                                  \n",
      "\u001b[A\n",
      "\n",
      " 32%|███▏      | 900/2770 [12:49<24:32,  1.27it/s]"
     ]
    },
    {
     "name": "stdout",
     "output_type": "stream",
     "text": [
      "{'loss': 0.2868, 'grad_norm': 1.7802473306655884, 'learning_rate': 3.377256317689531e-05, 'epoch': 1.62}\n"
     ]
    },
    {
     "name": "stderr",
     "output_type": "stream",
     "text": [
      " 36%|███▌      | 1000/2770 [14:09<24:39,  1.20it/s]\n",
      "\n",
      "\u001b[A\u001b[A                                            \n",
      "\n",
      "\n",
      "                                                   \n",
      "\u001b[A\n",
      "\n",
      " 36%|███▌      | 1000/2770 [14:10<24:39,  1.20it/s]"
     ]
    },
    {
     "name": "stdout",
     "output_type": "stream",
     "text": [
      "{'loss': 0.2503, 'grad_norm': 7.261033058166504, 'learning_rate': 3.196750902527076e-05, 'epoch': 1.81}\n"
     ]
    },
    {
     "name": "stderr",
     "output_type": "stream",
     "text": [
      "\n",
      "\u001b[A                                            \n",
      "\n",
      "\u001b[A\u001b[A                                            \n",
      "\n",
      "\n",
      "                                                   \n",
      "\u001b[A\n",
      "\n",
      " 36%|███▌      | 1000/2770 [15:03<24:39,  1.20it/s]"
     ]
    },
    {
     "name": "stdout",
     "output_type": "stream",
     "text": [
      "\n",
      "Per-Class Accuracy:\n",
      "akiec: 73.91%\n",
      "bcc: 76.47%\n",
      "bkl: 90.16%\n",
      "df: 83.33%\n",
      "mel: 56.52%\n",
      "nv: 95.38%\n",
      "vasc: 85.71%\n",
      "macro avg: 80.21%\n",
      "weighted avg: 91.94%\n",
      "{'eval_loss': 0.2495461404323578, 'eval_accuracy': 0.9223034734917733, 'eval_precision': 0.8151769138234054, 'eval_recall': 0.7441569684876175, 'eval_f1': 0.7730059705785233, 'eval_runtime': 53.8845, 'eval_samples_per_second': 20.303, 'eval_steps_per_second': 1.281, 'epoch': 1.81}\n"
     ]
    },
    {
     "name": "stderr",
     "output_type": "stream",
     "text": [
      " 40%|███▉      | 1100/2770 [16:24<21:37,  1.29it/s]  \n",
      "\n",
      "\u001b[A\u001b[A                                            \n",
      "\n",
      "\n",
      "                                                   \n",
      "\u001b[A\n",
      "\n",
      " 40%|███▉      | 1100/2770 [16:24<21:37,  1.29it/s]"
     ]
    },
    {
     "name": "stdout",
     "output_type": "stream",
     "text": [
      "{'loss': 0.2562, 'grad_norm': 1.4506551027297974, 'learning_rate': 3.0162454873646213e-05, 'epoch': 1.99}\n"
     ]
    },
    {
     "name": "stderr",
     "output_type": "stream",
     "text": [
      " 43%|████▎     | 1200/2770 [17:43<20:53,  1.25it/s]\n",
      "\n",
      "\u001b[A\u001b[A                                            \n",
      "\n",
      "\n",
      "                                                   \n",
      "\u001b[A\n",
      "\n",
      " 43%|████▎     | 1200/2770 [17:43<20:53,  1.25it/s]"
     ]
    },
    {
     "name": "stdout",
     "output_type": "stream",
     "text": [
      "{'loss': 0.094, 'grad_norm': 1.1170485019683838, 'learning_rate': 2.835740072202166e-05, 'epoch': 2.17}\n"
     ]
    },
    {
     "name": "stderr",
     "output_type": "stream",
     "text": [
      " 47%|████▋     | 1300/2770 [19:04<19:52,  1.23it/s]\n",
      "\n",
      "\u001b[A\u001b[A                                            \n",
      "\n",
      "\n",
      "                                                   \n",
      "\u001b[A\n",
      "\n",
      " 47%|████▋     | 1300/2770 [19:04<19:52,  1.23it/s]"
     ]
    },
    {
     "name": "stdout",
     "output_type": "stream",
     "text": [
      "{'loss': 0.0758, 'grad_norm': 4.185434818267822, 'learning_rate': 2.6552346570397112e-05, 'epoch': 2.35}\n"
     ]
    },
    {
     "name": "stderr",
     "output_type": "stream",
     "text": [
      " 51%|█████     | 1400/2770 [20:27<18:42,  1.22it/s]\n",
      "\n",
      "\u001b[A\u001b[A                                            \n",
      "\n",
      "\n",
      "                                                   \n",
      "\u001b[A\n",
      "\n",
      " 51%|█████     | 1400/2770 [20:27<18:42,  1.22it/s]"
     ]
    },
    {
     "name": "stdout",
     "output_type": "stream",
     "text": [
      "{'loss': 0.0672, 'grad_norm': 2.9656546115875244, 'learning_rate': 2.4747292418772565e-05, 'epoch': 2.53}\n"
     ]
    },
    {
     "name": "stderr",
     "output_type": "stream",
     "text": [
      " 54%|█████▍    | 1500/2770 [21:50<18:18,  1.16it/s]\n",
      "\n",
      "\u001b[A\u001b[A                                            \n",
      "\n",
      "\n",
      "                                                   \n",
      "\u001b[A\n",
      "\n",
      " 54%|█████▍    | 1500/2770 [21:50<18:18,  1.16it/s]"
     ]
    },
    {
     "name": "stdout",
     "output_type": "stream",
     "text": [
      "{'loss': 0.0816, 'grad_norm': 2.1244020462036133, 'learning_rate': 2.2942238267148018e-05, 'epoch': 2.71}\n"
     ]
    },
    {
     "name": "stderr",
     "output_type": "stream",
     "text": [
      "\n",
      "\u001b[A                                            \n",
      "\n",
      "\u001b[A\u001b[A                                            \n",
      "\n",
      "\n",
      "                                                   \n",
      "\u001b[A\n",
      "\n",
      " 54%|█████▍    | 1500/2770 [22:46<18:18,  1.16it/s]"
     ]
    },
    {
     "name": "stdout",
     "output_type": "stream",
     "text": [
      "\n",
      "Per-Class Accuracy:\n",
      "akiec: 71.43%\n",
      "bcc: 78.38%\n",
      "bkl: 81.01%\n",
      "df: 46.15%\n",
      "mel: 52.63%\n",
      "nv: 96.72%\n",
      "vasc: 75.00%\n",
      "macro avg: 71.62%\n",
      "weighted avg: 91.72%\n",
      "{'eval_loss': 0.28892436623573303, 'eval_accuracy': 0.9186471663619744, 'eval_precision': 0.7385086993355778, 'eval_recall': 0.7779029573127472, 'eval_f1': 0.7517136254854577, 'eval_runtime': 56.1628, 'eval_samples_per_second': 19.479, 'eval_steps_per_second': 1.229, 'epoch': 2.71}\n"
     ]
    },
    {
     "name": "stderr",
     "output_type": "stream",
     "text": [
      " 58%|█████▊    | 1600/2770 [24:08<16:06,  1.21it/s]  \n",
      "\n",
      "\u001b[A\u001b[A                                            \n",
      "\n",
      "\n",
      "                                                   \n",
      "\u001b[A\n",
      "\n",
      " 58%|█████▊    | 1600/2770 [24:08<16:06,  1.21it/s]"
     ]
    },
    {
     "name": "stdout",
     "output_type": "stream",
     "text": [
      "{'loss': 0.0876, 'grad_norm': 2.789628744125366, 'learning_rate': 2.1137184115523467e-05, 'epoch': 2.89}\n"
     ]
    },
    {
     "name": "stderr",
     "output_type": "stream",
     "text": [
      " 61%|██████▏   | 1700/2770 [25:28<14:00,  1.27it/s]\n",
      "\n",
      "\u001b[A\u001b[A                                            \n",
      "\n",
      "\n",
      "                                                   \n",
      "\u001b[A\n",
      "\n",
      " 61%|██████▏   | 1700/2770 [25:28<14:00,  1.27it/s]"
     ]
    },
    {
     "name": "stdout",
     "output_type": "stream",
     "text": [
      "{'loss': 0.0569, 'grad_norm': 0.7724908590316772, 'learning_rate': 1.9332129963898917e-05, 'epoch': 3.07}\n"
     ]
    },
    {
     "name": "stderr",
     "output_type": "stream",
     "text": [
      " 65%|██████▍   | 1800/2770 [26:48<12:56,  1.25it/s]\n",
      "\n",
      "\u001b[A\u001b[A                                            \n",
      "\n",
      "\n",
      "                                                   \n",
      "\u001b[A\n",
      "\n",
      " 65%|██████▍   | 1800/2770 [26:48<12:56,  1.25it/s]"
     ]
    },
    {
     "name": "stdout",
     "output_type": "stream",
     "text": [
      "{'loss': 0.01, 'grad_norm': 0.38071224093437195, 'learning_rate': 1.752707581227437e-05, 'epoch': 3.25}\n"
     ]
    },
    {
     "name": "stderr",
     "output_type": "stream",
     "text": [
      " 69%|██████▊   | 1900/2770 [28:09<11:31,  1.26it/s]\n",
      "\n",
      "\u001b[A\u001b[A                                            \n",
      "\n",
      "\n",
      "                                                   \n",
      "\u001b[A\n",
      "\n",
      " 69%|██████▊   | 1900/2770 [28:09<11:31,  1.26it/s]"
     ]
    },
    {
     "name": "stdout",
     "output_type": "stream",
     "text": [
      "{'loss': 0.0061, 'grad_norm': 2.140629768371582, 'learning_rate': 1.5722021660649822e-05, 'epoch': 3.43}\n"
     ]
    },
    {
     "name": "stderr",
     "output_type": "stream",
     "text": [
      " 72%|███████▏  | 2000/2770 [29:30<10:36,  1.21it/s]\n",
      "\n",
      "\u001b[A\u001b[A                                            \n",
      "\n",
      "\n",
      "                                                   \n",
      "\u001b[A\n",
      "\n",
      " 72%|███████▏  | 2000/2770 [29:30<10:36,  1.21it/s]"
     ]
    },
    {
     "name": "stdout",
     "output_type": "stream",
     "text": [
      "{'loss': 0.0059, 'grad_norm': 0.015092713758349419, 'learning_rate': 1.3916967509025272e-05, 'epoch': 3.61}\n"
     ]
    },
    {
     "name": "stderr",
     "output_type": "stream",
     "text": [
      "\n",
      "\u001b[A                                            \n",
      "\n",
      "\u001b[A\u001b[A                                            \n",
      "\n",
      "\n",
      "                                                   \n",
      "\u001b[A\n",
      "\n",
      " 72%|███████▏  | 2000/2770 [30:25<10:36,  1.21it/s]"
     ]
    },
    {
     "name": "stdout",
     "output_type": "stream",
     "text": [
      "\n",
      "Per-Class Accuracy:\n",
      "akiec: 65.38%\n",
      "bcc: 90.32%\n",
      "bkl: 79.07%\n",
      "df: 85.71%\n",
      "mel: 59.38%\n",
      "nv: 96.32%\n",
      "vasc: 80.00%\n",
      "macro avg: 79.46%\n",
      "weighted avg: 92.10%\n",
      "{'eval_loss': 0.3384018838405609, 'eval_accuracy': 0.926873857404022, 'eval_precision': 0.8086025904252022, 'eval_recall': 0.7670858079383616, 'eval_f1': 0.7838459848664159, 'eval_runtime': 54.373, 'eval_samples_per_second': 20.12, 'eval_steps_per_second': 1.269, 'epoch': 3.61}\n"
     ]
    },
    {
     "name": "stderr",
     "output_type": "stream",
     "text": [
      " 76%|███████▌  | 2100/2770 [31:46<08:56,  1.25it/s]  \n",
      "\n",
      "\u001b[A\u001b[A                                            \n",
      "\n",
      "\n",
      "                                                   \n",
      "\u001b[A\n",
      "\n",
      " 76%|███████▌  | 2100/2770 [31:46<08:56,  1.25it/s]"
     ]
    },
    {
     "name": "stdout",
     "output_type": "stream",
     "text": [
      "{'loss': 0.0076, 'grad_norm': 0.29263395071029663, 'learning_rate': 1.2111913357400723e-05, 'epoch': 3.79}\n"
     ]
    },
    {
     "name": "stderr",
     "output_type": "stream",
     "text": [
      " 79%|███████▉  | 2200/2770 [33:06<07:33,  1.26it/s]\n",
      "\n",
      "\u001b[A\u001b[A                                            \n",
      "\n",
      "\n",
      "                                                   \n",
      "\u001b[A\n",
      "\n",
      " 79%|███████▉  | 2200/2770 [33:06<07:33,  1.26it/s]"
     ]
    },
    {
     "name": "stdout",
     "output_type": "stream",
     "text": [
      "{'loss': 0.0051, 'grad_norm': 2.8094382286071777, 'learning_rate': 1.0306859205776172e-05, 'epoch': 3.97}\n"
     ]
    },
    {
     "name": "stderr",
     "output_type": "stream",
     "text": [
      " 83%|████████▎ | 2300/2770 [34:27<06:17,  1.25it/s]\n",
      "\n",
      "\u001b[A\u001b[A                                            \n",
      "\n",
      "\n",
      "                                                   \n",
      "\u001b[A\n",
      "\n",
      " 83%|████████▎ | 2300/2770 [34:27<06:17,  1.25it/s]"
     ]
    },
    {
     "name": "stdout",
     "output_type": "stream",
     "text": [
      "{'loss': 0.0015, 'grad_norm': 0.10787701606750488, 'learning_rate': 8.501805054151625e-06, 'epoch': 4.15}\n"
     ]
    },
    {
     "name": "stderr",
     "output_type": "stream",
     "text": [
      " 87%|████████▋ | 2400/2770 [35:48<04:54,  1.26it/s]\n",
      "\n",
      "\u001b[A\u001b[A                                            \n",
      "\n",
      "\n",
      "                                                   \n",
      "\u001b[A\n",
      "\n",
      " 87%|████████▋ | 2400/2770 [35:48<04:54,  1.26it/s]"
     ]
    },
    {
     "name": "stdout",
     "output_type": "stream",
     "text": [
      "{'loss': 0.0007, 'grad_norm': 0.008645083755254745, 'learning_rate': 6.6967509025270755e-06, 'epoch': 4.33}\n"
     ]
    },
    {
     "name": "stderr",
     "output_type": "stream",
     "text": [
      " 90%|█████████ | 2500/2770 [37:09<03:37,  1.24it/s]\n",
      "\n",
      "\u001b[A\u001b[A                                            \n",
      "\n",
      "\n",
      "                                                   \n",
      "\u001b[A\n",
      "\n",
      " 90%|█████████ | 2500/2770 [37:09<03:37,  1.24it/s]"
     ]
    },
    {
     "name": "stdout",
     "output_type": "stream",
     "text": [
      "{'loss': 0.0008, 'grad_norm': 0.010107063688337803, 'learning_rate': 4.8916967509025275e-06, 'epoch': 4.51}\n"
     ]
    },
    {
     "name": "stderr",
     "output_type": "stream",
     "text": [
      "\n",
      "\u001b[A                                            \n",
      "\n",
      "\u001b[A\u001b[A                                            \n",
      "\n",
      "\n",
      "                                                   \n",
      "\u001b[A\n",
      "\n",
      " 90%|█████████ | 2500/2770 [38:04<03:37,  1.24it/s]"
     ]
    },
    {
     "name": "stdout",
     "output_type": "stream",
     "text": [
      "\n",
      "Per-Class Accuracy:\n",
      "akiec: 76.00%\n",
      "bcc: 80.00%\n",
      "bkl: 81.48%\n",
      "df: 85.71%\n",
      "mel: 55.00%\n",
      "nv: 96.75%\n",
      "vasc: 85.71%\n",
      "macro avg: 80.09%\n",
      "weighted avg: 92.48%\n",
      "{'eval_loss': 0.34534671902656555, 'eval_accuracy': 0.9287020109689214, 'eval_precision': 0.8146996530602681, 'eval_recall': 0.7809380397955548, 'eval_f1': 0.7960141173773496, 'eval_runtime': 54.1603, 'eval_samples_per_second': 20.199, 'eval_steps_per_second': 1.274, 'epoch': 4.51}\n"
     ]
    },
    {
     "name": "stderr",
     "output_type": "stream",
     "text": [
      " 94%|█████████▍| 2600/2770 [39:25<02:18,  1.23it/s]  \n",
      "\n",
      "\u001b[A\u001b[A                                            \n",
      "\n",
      "\n",
      "                                                   \n",
      "\u001b[A\n",
      "\n",
      " 94%|█████████▍| 2600/2770 [39:25<02:18,  1.23it/s]"
     ]
    },
    {
     "name": "stdout",
     "output_type": "stream",
     "text": [
      "{'loss': 0.0006, 'grad_norm': 0.038976412266492844, 'learning_rate': 3.0866425992779787e-06, 'epoch': 4.69}\n"
     ]
    },
    {
     "name": "stderr",
     "output_type": "stream",
     "text": [
      " 97%|█████████▋| 2700/2770 [40:46<00:58,  1.20it/s]\n",
      "\n",
      "\u001b[A\u001b[A                                            \n",
      "\n",
      "\n",
      "                                                   \n",
      "\u001b[A\n",
      "\n",
      " 97%|█████████▋| 2700/2770 [40:46<00:58,  1.20it/s]"
     ]
    },
    {
     "name": "stdout",
     "output_type": "stream",
     "text": [
      "{'loss': 0.0007, 'grad_norm': 0.06750218570232391, 'learning_rate': 1.2815884476534297e-06, 'epoch': 4.87}\n"
     ]
    },
    {
     "name": "stderr",
     "output_type": "stream",
     "text": [
      "100%|██████████| 2770/2770 [41:42<00:00,  1.67it/s]\n",
      "\n",
      "\u001b[A\u001b[A                                            \n",
      "\n",
      "\n",
      "                                                   \n",
      "\u001b[A\n",
      "\n",
      "100%|██████████| 2770/2770 [41:43<00:00,  1.11it/s]"
     ]
    },
    {
     "name": "stdout",
     "output_type": "stream",
     "text": [
      "{'train_runtime': 2503.285, 'train_samples_per_second': 17.705, 'train_steps_per_second': 1.107, 'train_loss': 0.19202751522944292, 'epoch': 5.0}\n"
     ]
    },
    {
     "name": "stderr",
     "output_type": "stream",
     "text": [
      "\n"
     ]
    },
    {
     "data": {
      "text/plain": [
       "TrainOutput(global_step=2770, training_loss=0.19202751522944292, metrics={'train_runtime': 2503.285, 'train_samples_per_second': 17.705, 'train_steps_per_second': 1.107, 'total_flos': 3.4345988889388646e+18, 'train_loss': 0.19202751522944292, 'epoch': 5.0})"
      ]
     },
     "execution_count": 50,
     "metadata": {},
     "output_type": "execute_result"
    }
   ],
   "source": [
    "# Fine-tune the model\n",
    "trainer.train()"
   ]
  },
  {
   "cell_type": "code",
   "execution_count": 51,
   "metadata": {},
   "outputs": [
    {
     "name": "stderr",
     "output_type": "stream",
     "text": [
      "100%|██████████| 69/69 [00:54<00:00,  1.27it/s]"
     ]
    },
    {
     "name": "stdout",
     "output_type": "stream",
     "text": [
      "\n",
      "Per-Class Accuracy:\n",
      "akiec: 73.91%\n",
      "bcc: 76.47%\n",
      "bkl: 90.16%\n",
      "df: 83.33%\n",
      "mel: 56.52%\n",
      "nv: 95.38%\n",
      "vasc: 85.71%\n",
      "macro avg: 80.21%\n",
      "weighted avg: 91.94%\n",
      "Validation metrics: {'eval_loss': 0.2495461404323578, 'eval_accuracy': 0.9223034734917733, 'eval_precision': 0.8151769138234054, 'eval_recall': 0.7441569684876175, 'eval_f1': 0.7730059705785233, 'eval_runtime': 55.8367, 'eval_samples_per_second': 19.593, 'eval_steps_per_second': 1.236, 'epoch': 5.0}\n"
     ]
    },
    {
     "name": "stderr",
     "output_type": "stream",
     "text": [
      "\n"
     ]
    }
   ],
   "source": [
    "# Evaluate the model on validation dataset\n",
    "metrics = trainer.evaluate()\n",
    "print(\"Validation metrics:\", metrics)"
   ]
  },
  {
   "cell_type": "code",
   "execution_count": 52,
   "metadata": {},
   "outputs": [
    {
     "name": "stdout",
     "output_type": "stream",
     "text": [
      "Validation Accuracy: 92.23%\n"
     ]
    }
   ],
   "source": [
    "# Print accuracy\n",
    "print(f\"Validation Accuracy: {metrics['eval_accuracy'] * 100:.2f}%\")"
   ]
  },
  {
   "cell_type": "code",
   "execution_count": 2,
   "metadata": {},
   "outputs": [
    {
     "ename": "NameError",
     "evalue": "name 'trainer' is not defined",
     "output_type": "error",
     "traceback": [
      "\u001b[1;31m---------------------------------------------------------------------------\u001b[0m",
      "\u001b[1;31mNameError\u001b[0m                                 Traceback (most recent call last)",
      "Cell \u001b[1;32mIn[2], line 2\u001b[0m\n\u001b[0;32m      1\u001b[0m \u001b[38;5;66;03m# Load the log history from the trainer\u001b[39;00m\n\u001b[1;32m----> 2\u001b[0m log_history \u001b[38;5;241m=\u001b[39m \u001b[43mtrainer\u001b[49m\u001b[38;5;241m.\u001b[39mstate\u001b[38;5;241m.\u001b[39mlog_history\n\u001b[0;32m      4\u001b[0m \u001b[38;5;66;03m# Convert to a pandas DataFrame for easier manipulation\u001b[39;00m\n\u001b[0;32m      5\u001b[0m df \u001b[38;5;241m=\u001b[39m pd\u001b[38;5;241m.\u001b[39mDataFrame(log_history)\n",
      "\u001b[1;31mNameError\u001b[0m: name 'trainer' is not defined"
     ]
    }
   ],
   "source": [
    "# Load the log history from the trainer\n",
    "log_history = trainer.state.log_history\n",
    "\n",
    "# Convert to a pandas DataFrame for easier manipulation\n",
    "df = pd.DataFrame(log_history)\n",
    "\n",
    "# Filter for training and validation losses\n",
    "train_loss = df[df[\"loss\"].notnull()]\n",
    "eval_loss = df[df[\"eval_loss\"].notnull()]\n",
    "\n",
    "# Plot training and validation losses\n",
    "plt.figure(figsize=(10, 6))\n",
    "plt.plot(train_loss[\"step\"], train_loss[\"loss\"], label=\"Training Loss\", marker=\"o\")\n",
    "plt.plot(eval_loss[\"step\"], eval_loss[\"eval_loss\"], label=\"Validation Loss\", marker=\"o\")\n",
    "\n",
    "# Add labels, legend, and grid\n",
    "plt.xlabel(\"Steps\")\n",
    "plt.ylabel(\"Loss\")\n",
    "plt.title(\"Learning Curve\")\n",
    "plt.legend()\n",
    "plt.grid(True)\n",
    "plt.show()"
   ]
  },
  {
   "cell_type": "code",
   "execution_count": 53,
   "metadata": {},
   "outputs": [],
   "source": [
    "# Save the final model explicitly\n",
    "trainer.save_model(\"./vit-final-model\")"
   ]
  }
 ],
 "metadata": {
  "kernelspec": {
   "display_name": "Torch_NLP",
   "language": "python",
   "name": "python3"
  },
  "language_info": {
   "codemirror_mode": {
    "name": "ipython",
    "version": 3
   },
   "file_extension": ".py",
   "mimetype": "text/x-python",
   "name": "python",
   "nbconvert_exporter": "python",
   "pygments_lexer": "ipython3",
   "version": "3.10.14"
  }
 },
 "nbformat": 4,
 "nbformat_minor": 2
}
