{
 "cells": [
  {
   "cell_type": "markdown",
   "metadata": {},
   "source": [
    "using code from github: \n",
    "\n",
    "Skin Cancer Object Detection Data Preperation/mask-to-bbox-yolo.ipynb\n",
    "\n",
    "made modifications to run it locally"
   ]
  },
  {
   "cell_type": "code",
   "execution_count": null,
   "metadata": {},
   "outputs": [],
   "source": [
    "import os\n",
    "\n",
    "# Specify the directory path you want to create\n",
    "directory = '/kaggle/working/Labels'\n",
    "\n",
    "# Create the directory\n",
    "os.makedirs(directory)"
   ]
  },
  {
   "cell_type": "code",
   "execution_count": null,
   "metadata": {},
   "outputs": [],
   "source": [
    "import numpy as np\n",
    "import cv2\n",
    "import os\n",
    "import pandas as pd\n",
    "\n",
    "def mask_to_bounding_box(image_path):\n",
    "    df = pd.read_csv(\"/kaggle/input/skin-cancer-lesions-segmentation/data/metadata.csv\")\n",
    "    # Read the image using OpenCV\n",
    "    image = cv2.imread(image_path, cv2.IMREAD_GRAYSCALE)\n",
    "\n",
    "    # Resize the image to 256x256\n",
    "    # resized_image = cv2.resize(image, (256, 256))\n",
    "\n",
    "    # Convert the resized image to numpy array\n",
    "    numpy_array = np.array(image)\n",
    "\n",
    "    # Find non-zero coordinates in the mask\n",
    "    non_zero_indices = np.nonzero(numpy_array)\n",
    "\n",
    "    # Calculate bounding box coordinates\n",
    "    min_y = np.min(non_zero_indices[0])\n",
    "    max_y = np.max(non_zero_indices[0])\n",
    "    min_x = np.min(non_zero_indices[1])\n",
    "    max_x = np.max(non_zero_indices[1])\n",
    "\n",
    "    # Calculate width and height\n",
    "    width = max_x - min_x + 1\n",
    "    height = max_y - min_y + 1\n",
    "\n",
    "    # Normalize the coordinates and dimensions\n",
    "    img_height, img_width = image.shape[:2]\n",
    "    min_x_norm = min_x / width\n",
    "    min_y_norm = min_y / height\n",
    "    width_norm = width / img_width  # Normalized width\n",
    "    height_norm = height / img_height  # Normalized height\n",
    "\n",
    "    # Extract the image name\n",
    "    img_name = os.path.basename(image_path).split('.')[0]\n",
    "\n",
    "    # Class ID\n",
    "    mapping = {'MEL': 0, 'NV': 1, 'BCC': 2, 'AKIEC': 3, 'BKL': 4, 'DF': 5, 'VASC': 6}\n",
    "    row = df[df['image'] == img_name]\n",
    "    clss = row.columns[(row == 1).iloc[0]][0]\n",
    "    class_ID = mapping[clss]\n",
    "\n",
    "    # Create a string with bounding box details\n",
    "    bounding_box_details = f\"{class_ID} {min_x_norm} {min_y_norm} {width_norm} {height_norm}\\n\"\n",
    "    \n",
    "    #Output_file\n",
    "    output_file = f\"/kaggle/working/Labels/{img_name}.txt\"\n",
    "    # Write bounding box details to the output file\n",
    "    with open(output_file, \"w\") as file:\n",
    "        file.write(bounding_box_details)\n",
    "\n",
    "\n",
    "# Example usage:\n",
    "img_path = \"/kaggle/input/skin-cancer-lesions-segmentation/data/masks/ISIC_0024311.png\"\n",
    "bounding_box = mask_to_bounding_box(img_path)"
   ]
  },
  {
   "cell_type": "code",
   "execution_count": null,
   "metadata": {},
   "outputs": [],
   "source": [
    "# Specify the directory path\n",
    "masks_directory = \"/kaggle/input/skin-cancer-lesions-segmentation/data/masks\"\n",
    "\n",
    "# Loop through all the files in the directory\n",
    "for filename in os.listdir(masks_directory):\n",
    "    # Check if the current file is a regular file\n",
    "    file_path = os.path.join(masks_directory, filename)\n",
    "    mask_to_bounding_box(file_path)"
   ]
  }
 ],
 "metadata": {
  "kernelspec": {
   "display_name": "Torch_CV",
   "language": "python",
   "name": "python3"
  },
  "language_info": {
   "codemirror_mode": {
    "name": "ipython",
    "version": 3
   },
   "file_extension": ".py",
   "mimetype": "text/x-python",
   "name": "python",
   "nbconvert_exporter": "python",
   "pygments_lexer": "ipython3",
   "version": "3.10.14"
  }
 },
 "nbformat": 4,
 "nbformat_minor": 2
}
