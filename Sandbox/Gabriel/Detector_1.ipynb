{
 "cells": [
  {
   "cell_type": "code",
   "execution_count": 1,
   "metadata": {},
   "outputs": [
    {
     "name": "stdout",
     "output_type": "stream",
     "text": [
      "c:\\MSAAI\\AAI-521\\MSAAI-521-Final-Project\\Sandbox\\Gabriel\\yolov7\n"
     ]
    },
    {
     "name": "stderr",
     "output_type": "stream",
     "text": [
      "Cloning into 'yolov7'...\n",
      "c:\\Users\\gabri\\anaconda3\\envs\\Torch_CV\\lib\\site-packages\\IPython\\core\\magics\\osm.py:417: UserWarning: This is now an optional IPython functionality, setting dhist requires you to install the `pickleshare` library.\n",
      "  self.shell.db['dhist'] = compress_dhist(dhist)[-100:]\n"
     ]
    },
    {
     "name": "stdout",
     "output_type": "stream",
     "text": [
      "Requirement already satisfied: matplotlib>=3.2.2 in c:\\users\\gabri\\anaconda3\\envs\\torch_cv\\lib\\site-packages (from -r requirements.txt (line 4)) (3.9.2)\n",
      "Collecting numpy<1.24.0,>=1.18.5 (from -r requirements.txt (line 5))\n",
      "  Downloading numpy-1.23.5-cp310-cp310-win_amd64.whl.metadata (2.3 kB)\n",
      "Collecting opencv-python>=4.1.1 (from -r requirements.txt (line 6))\n",
      "  Using cached opencv_python-4.10.0.84-cp37-abi3-win_amd64.whl.metadata (20 kB)\n",
      "Requirement already satisfied: Pillow>=7.1.2 in c:\\users\\gabri\\anaconda3\\envs\\torch_cv\\lib\\site-packages (from -r requirements.txt (line 7)) (10.4.0)\n",
      "Requirement already satisfied: PyYAML>=5.3.1 in c:\\users\\gabri\\anaconda3\\envs\\torch_cv\\lib\\site-packages (from -r requirements.txt (line 8)) (6.0.1)\n",
      "Requirement already satisfied: requests>=2.23.0 in c:\\users\\gabri\\anaconda3\\envs\\torch_cv\\lib\\site-packages (from -r requirements.txt (line 9)) (2.32.3)\n",
      "Requirement already satisfied: scipy>=1.4.1 in c:\\users\\gabri\\anaconda3\\envs\\torch_cv\\lib\\site-packages (from -r requirements.txt (line 10)) (1.13.1)\n",
      "Requirement already satisfied: torch!=1.12.0,>=1.7.0 in c:\\users\\gabri\\anaconda3\\envs\\torch_cv\\lib\\site-packages (from -r requirements.txt (line 11)) (2.4.1)\n",
      "Requirement already satisfied: torchvision!=0.13.0,>=0.8.1 in c:\\users\\gabri\\anaconda3\\envs\\torch_cv\\lib\\site-packages (from -r requirements.txt (line 12)) (0.19.1)\n",
      "Requirement already satisfied: tqdm>=4.41.0 in c:\\users\\gabri\\anaconda3\\envs\\torch_cv\\lib\\site-packages (from -r requirements.txt (line 13)) (4.66.5)\n",
      "Collecting protobuf<4.21.3 (from -r requirements.txt (line 14))\n",
      "  Downloading protobuf-4.21.2-cp310-abi3-win_amd64.whl.metadata (540 bytes)\n",
      "Collecting tensorboard>=2.4.1 (from -r requirements.txt (line 17))\n",
      "  Downloading tensorboard-2.18.0-py3-none-any.whl.metadata (1.6 kB)\n",
      "Requirement already satisfied: pandas>=1.1.4 in c:\\users\\gabri\\anaconda3\\envs\\torch_cv\\lib\\site-packages (from -r requirements.txt (line 21)) (2.2.2)\n",
      "Requirement already satisfied: seaborn>=0.11.0 in c:\\users\\gabri\\anaconda3\\envs\\torch_cv\\lib\\site-packages (from -r requirements.txt (line 22)) (0.13.2)\n",
      "Requirement already satisfied: ipython in c:\\users\\gabri\\anaconda3\\envs\\torch_cv\\lib\\site-packages (from -r requirements.txt (line 34)) (8.27.0)\n",
      "Requirement already satisfied: psutil in c:\\users\\gabri\\anaconda3\\envs\\torch_cv\\lib\\site-packages (from -r requirements.txt (line 35)) (5.9.0)\n",
      "Collecting thop (from -r requirements.txt (line 36))\n",
      "  Downloading thop-0.1.1.post2209072238-py3-none-any.whl.metadata (2.7 kB)\n",
      "Requirement already satisfied: contourpy>=1.0.1 in c:\\users\\gabri\\anaconda3\\envs\\torch_cv\\lib\\site-packages (from matplotlib>=3.2.2->-r requirements.txt (line 4)) (1.2.0)\n",
      "Requirement already satisfied: cycler>=0.10 in c:\\users\\gabri\\anaconda3\\envs\\torch_cv\\lib\\site-packages (from matplotlib>=3.2.2->-r requirements.txt (line 4)) (0.11.0)\n",
      "Requirement already satisfied: fonttools>=4.22.0 in c:\\users\\gabri\\anaconda3\\envs\\torch_cv\\lib\\site-packages (from matplotlib>=3.2.2->-r requirements.txt (line 4)) (4.51.0)\n",
      "Requirement already satisfied: kiwisolver>=1.3.1 in c:\\users\\gabri\\anaconda3\\envs\\torch_cv\\lib\\site-packages (from matplotlib>=3.2.2->-r requirements.txt (line 4)) (1.4.4)\n",
      "Requirement already satisfied: packaging>=20.0 in c:\\users\\gabri\\anaconda3\\envs\\torch_cv\\lib\\site-packages (from matplotlib>=3.2.2->-r requirements.txt (line 4)) (24.1)\n",
      "Requirement already satisfied: pyparsing>=2.3.1 in c:\\users\\gabri\\anaconda3\\envs\\torch_cv\\lib\\site-packages (from matplotlib>=3.2.2->-r requirements.txt (line 4)) (3.1.2)\n",
      "Requirement already satisfied: python-dateutil>=2.7 in c:\\users\\gabri\\anaconda3\\envs\\torch_cv\\lib\\site-packages (from matplotlib>=3.2.2->-r requirements.txt (line 4)) (2.9.0.post0)\n",
      "Requirement already satisfied: charset-normalizer<4,>=2 in c:\\users\\gabri\\anaconda3\\envs\\torch_cv\\lib\\site-packages (from requests>=2.23.0->-r requirements.txt (line 9)) (3.3.2)\n",
      "Requirement already satisfied: idna<4,>=2.5 in c:\\users\\gabri\\anaconda3\\envs\\torch_cv\\lib\\site-packages (from requests>=2.23.0->-r requirements.txt (line 9)) (3.7)\n",
      "Requirement already satisfied: urllib3<3,>=1.21.1 in c:\\users\\gabri\\anaconda3\\envs\\torch_cv\\lib\\site-packages (from requests>=2.23.0->-r requirements.txt (line 9)) (2.2.2)\n",
      "Requirement already satisfied: certifi>=2017.4.17 in c:\\users\\gabri\\anaconda3\\envs\\torch_cv\\lib\\site-packages (from requests>=2.23.0->-r requirements.txt (line 9)) (2024.8.30)\n",
      "Requirement already satisfied: filelock in c:\\users\\gabri\\anaconda3\\envs\\torch_cv\\lib\\site-packages (from torch!=1.12.0,>=1.7.0->-r requirements.txt (line 11)) (3.13.1)\n",
      "Requirement already satisfied: typing-extensions>=4.8.0 in c:\\users\\gabri\\anaconda3\\envs\\torch_cv\\lib\\site-packages (from torch!=1.12.0,>=1.7.0->-r requirements.txt (line 11)) (4.11.0)\n",
      "Requirement already satisfied: sympy in c:\\users\\gabri\\anaconda3\\envs\\torch_cv\\lib\\site-packages (from torch!=1.12.0,>=1.7.0->-r requirements.txt (line 11)) (1.13.2)\n",
      "Requirement already satisfied: networkx in c:\\users\\gabri\\anaconda3\\envs\\torch_cv\\lib\\site-packages (from torch!=1.12.0,>=1.7.0->-r requirements.txt (line 11)) (3.2.1)\n",
      "Requirement already satisfied: jinja2 in c:\\users\\gabri\\anaconda3\\envs\\torch_cv\\lib\\site-packages (from torch!=1.12.0,>=1.7.0->-r requirements.txt (line 11)) (3.1.4)\n",
      "Requirement already satisfied: fsspec in c:\\users\\gabri\\anaconda3\\envs\\torch_cv\\lib\\site-packages (from torch!=1.12.0,>=1.7.0->-r requirements.txt (line 11)) (2024.3.1)\n",
      "Requirement already satisfied: colorama in c:\\users\\gabri\\anaconda3\\envs\\torch_cv\\lib\\site-packages (from tqdm>=4.41.0->-r requirements.txt (line 13)) (0.4.6)\n",
      "Collecting absl-py>=0.4 (from tensorboard>=2.4.1->-r requirements.txt (line 17))\n",
      "  Using cached absl_py-2.1.0-py3-none-any.whl.metadata (2.3 kB)\n",
      "Collecting grpcio>=1.48.2 (from tensorboard>=2.4.1->-r requirements.txt (line 17))\n",
      "  Downloading grpcio-1.68.1-cp310-cp310-win_amd64.whl.metadata (4.0 kB)\n",
      "Collecting markdown>=2.6.8 (from tensorboard>=2.4.1->-r requirements.txt (line 17))\n",
      "  Downloading Markdown-3.7-py3-none-any.whl.metadata (7.0 kB)\n",
      "Requirement already satisfied: setuptools>=41.0.0 in c:\\users\\gabri\\anaconda3\\envs\\torch_cv\\lib\\site-packages (from tensorboard>=2.4.1->-r requirements.txt (line 17)) (75.1.0)\n",
      "Requirement already satisfied: six>1.9 in c:\\users\\gabri\\anaconda3\\envs\\torch_cv\\lib\\site-packages (from tensorboard>=2.4.1->-r requirements.txt (line 17)) (1.16.0)\n",
      "Collecting tensorboard-data-server<0.8.0,>=0.7.0 (from tensorboard>=2.4.1->-r requirements.txt (line 17))\n",
      "  Using cached tensorboard_data_server-0.7.2-py3-none-any.whl.metadata (1.1 kB)\n",
      "Collecting werkzeug>=1.0.1 (from tensorboard>=2.4.1->-r requirements.txt (line 17))\n",
      "  Downloading werkzeug-3.1.3-py3-none-any.whl.metadata (3.7 kB)\n",
      "Requirement already satisfied: pytz>=2020.1 in c:\\users\\gabri\\anaconda3\\envs\\torch_cv\\lib\\site-packages (from pandas>=1.1.4->-r requirements.txt (line 21)) (2024.1)\n",
      "Requirement already satisfied: tzdata>=2022.7 in c:\\users\\gabri\\anaconda3\\envs\\torch_cv\\lib\\site-packages (from pandas>=1.1.4->-r requirements.txt (line 21)) (2023.3)\n",
      "Requirement already satisfied: decorator in c:\\users\\gabri\\anaconda3\\envs\\torch_cv\\lib\\site-packages (from ipython->-r requirements.txt (line 34)) (5.1.1)\n",
      "Requirement already satisfied: jedi>=0.16 in c:\\users\\gabri\\anaconda3\\envs\\torch_cv\\lib\\site-packages (from ipython->-r requirements.txt (line 34)) (0.19.1)\n",
      "Requirement already satisfied: matplotlib-inline in c:\\users\\gabri\\anaconda3\\envs\\torch_cv\\lib\\site-packages (from ipython->-r requirements.txt (line 34)) (0.1.6)\n",
      "Requirement already satisfied: prompt-toolkit<3.1.0,>=3.0.41 in c:\\users\\gabri\\anaconda3\\envs\\torch_cv\\lib\\site-packages (from ipython->-r requirements.txt (line 34)) (3.0.43)\n",
      "Requirement already satisfied: pygments>=2.4.0 in c:\\users\\gabri\\anaconda3\\envs\\torch_cv\\lib\\site-packages (from ipython->-r requirements.txt (line 34)) (2.15.1)\n",
      "Requirement already satisfied: stack-data in c:\\users\\gabri\\anaconda3\\envs\\torch_cv\\lib\\site-packages (from ipython->-r requirements.txt (line 34)) (0.2.0)\n",
      "Requirement already satisfied: traitlets>=5.13.0 in c:\\users\\gabri\\anaconda3\\envs\\torch_cv\\lib\\site-packages (from ipython->-r requirements.txt (line 34)) (5.14.3)\n",
      "Requirement already satisfied: exceptiongroup in c:\\users\\gabri\\anaconda3\\envs\\torch_cv\\lib\\site-packages (from ipython->-r requirements.txt (line 34)) (1.2.0)\n",
      "Requirement already satisfied: parso<0.9.0,>=0.8.3 in c:\\users\\gabri\\anaconda3\\envs\\torch_cv\\lib\\site-packages (from jedi>=0.16->ipython->-r requirements.txt (line 34)) (0.8.3)\n",
      "Requirement already satisfied: wcwidth in c:\\users\\gabri\\anaconda3\\envs\\torch_cv\\lib\\site-packages (from prompt-toolkit<3.1.0,>=3.0.41->ipython->-r requirements.txt (line 34)) (0.2.5)\n",
      "Requirement already satisfied: MarkupSafe>=2.1.1 in c:\\users\\gabri\\anaconda3\\envs\\torch_cv\\lib\\site-packages (from werkzeug>=1.0.1->tensorboard>=2.4.1->-r requirements.txt (line 17)) (2.1.3)\n",
      "Requirement already satisfied: executing in c:\\users\\gabri\\anaconda3\\envs\\torch_cv\\lib\\site-packages (from stack-data->ipython->-r requirements.txt (line 34)) (0.8.3)\n",
      "Requirement already satisfied: asttokens in c:\\users\\gabri\\anaconda3\\envs\\torch_cv\\lib\\site-packages (from stack-data->ipython->-r requirements.txt (line 34)) (2.0.5)\n",
      "Requirement already satisfied: pure-eval in c:\\users\\gabri\\anaconda3\\envs\\torch_cv\\lib\\site-packages (from stack-data->ipython->-r requirements.txt (line 34)) (0.2.2)\n",
      "Requirement already satisfied: mpmath<1.4,>=1.1.0 in c:\\users\\gabri\\anaconda3\\envs\\torch_cv\\lib\\site-packages (from sympy->torch!=1.12.0,>=1.7.0->-r requirements.txt (line 11)) (1.3.0)\n",
      "Downloading numpy-1.23.5-cp310-cp310-win_amd64.whl (14.6 MB)\n",
      "   ---------------------------------------- 0.0/14.6 MB ? eta -:--:--\n",
      "   ------------------- -------------------- 7.1/14.6 MB 43.7 MB/s eta 0:00:01\n",
      "   ---------------------------------------- 14.6/14.6 MB 46.0 MB/s eta 0:00:00\n",
      "Using cached opencv_python-4.10.0.84-cp37-abi3-win_amd64.whl (38.8 MB)\n",
      "Downloading protobuf-4.21.2-cp310-abi3-win_amd64.whl (524 kB)\n",
      "   ---------------------------------------- 0.0/525.0 kB ? eta -:--:--\n",
      "   --------------------------------------- 525.0/525.0 kB 16.4 MB/s eta 0:00:00\n",
      "Downloading tensorboard-2.18.0-py3-none-any.whl (5.5 MB)\n",
      "   ---------------------------------------- 0.0/5.5 MB ? eta -:--:--\n",
      "   ---------------------------------------- 5.5/5.5 MB 84.5 MB/s eta 0:00:00\n",
      "Downloading thop-0.1.1.post2209072238-py3-none-any.whl (15 kB)\n",
      "Using cached absl_py-2.1.0-py3-none-any.whl (133 kB)\n",
      "Downloading grpcio-1.68.1-cp310-cp310-win_amd64.whl (4.4 MB)\n",
      "   ---------------------------------------- 0.0/4.4 MB ? eta -:--:--\n",
      "   ---------------------------------------- 4.4/4.4 MB 133.5 MB/s eta 0:00:00\n",
      "Downloading Markdown-3.7-py3-none-any.whl (106 kB)\n",
      "Using cached tensorboard_data_server-0.7.2-py3-none-any.whl (2.4 kB)\n",
      "Downloading werkzeug-3.1.3-py3-none-any.whl (224 kB)\n",
      "Installing collected packages: werkzeug, tensorboard-data-server, protobuf, numpy, markdown, grpcio, absl-py, tensorboard, opencv-python, thop\n",
      "  Attempting uninstall: numpy\n",
      "    Found existing installation: numpy 1.26.4\n",
      "    Uninstalling numpy-1.26.4:\n",
      "      Successfully uninstalled numpy-1.26.4\n",
      "Successfully installed absl-py-2.1.0 grpcio-1.68.1 markdown-3.7 numpy-1.23.5 opencv-python-4.10.0.84 protobuf-4.21.2 tensorboard-2.18.0 tensorboard-data-server-0.7.2 thop-0.1.1.post2209072238 werkzeug-3.1.3\n"
     ]
    },
    {
     "name": "stderr",
     "output_type": "stream",
     "text": [
      "'wget' is not recognized as an internal or external command,\n",
      "operable program or batch file.\n"
     ]
    }
   ],
   "source": [
    "# Clone the YOLOv7 repository\n",
    "!git clone https://github.com/WongKinYiu/yolov7.git\n",
    "%cd yolov7\n",
    "\n",
    "# Install dependencies\n",
    "!pip install -r requirements.txt\n",
    "\n",
    "# Download pre-trained YOLOv7 weights\n",
    "!wget https://github.com/WongKinYiu/yolov7/releases/download/v0.1/yolov7.pt\n"
   ]
  },
  {
   "cell_type": "code",
   "execution_count": 2,
   "metadata": {},
   "outputs": [],
   "source": [
    "import cv2\n",
    "import torch\n",
    "from yolov7.models.experimental import attempt_load\n",
    "from yolov7.utils.general import non_max_suppression, scale_coords\n",
    "from yolov7.utils.plots import plot_one_box\n",
    "from yolov7.utils.datasets import letterbox"
   ]
  },
  {
   "cell_type": "code",
   "execution_count": 4,
   "metadata": {},
   "outputs": [
    {
     "name": "stdout",
     "output_type": "stream",
     "text": [
      "Fusing layers... \n",
      "RepConv.fuse_repvgg_block\n",
      "RepConv.fuse_repvgg_block\n",
      "RepConv.fuse_repvgg_block\n"
     ]
    }
   ],
   "source": [
    "# Load YOLOv7 model\n",
    "device = 'cuda' if torch.cuda.is_available() else 'cpu'\n",
    "model = attempt_load('yolov7.pt', map_location=device)\n",
    "model.eval()\n",
    "\n",
    "# Define the function to preprocess input frames\n",
    "def preprocess_frame(frame, img_size=640):\n",
    "    img = letterbox(frame, new_shape=img_size)[0]\n",
    "    img = img[:, :, ::-1].transpose(2, 0, 1)  # Convert BGR to RGB and reshape\n",
    "    img = torch.from_numpy(img).to(device).float() / 255.0  # Normalize\n",
    "    if img.ndimension() == 3:\n",
    "        img = img.unsqueeze(0)\n",
    "    return img"
   ]
  },
  {
   "cell_type": "code",
   "execution_count": 5,
   "metadata": {},
   "outputs": [
    {
     "ename": "ValueError",
     "evalue": "At least one stride in the given numpy array is negative, and tensors with negative strides are not currently supported. (You can probably work around this by making a copy of your array  with array.copy().) ",
     "output_type": "error",
     "traceback": [
      "\u001b[1;31m---------------------------------------------------------------------------\u001b[0m",
      "\u001b[1;31mValueError\u001b[0m                                Traceback (most recent call last)",
      "Cell \u001b[1;32mIn[5], line 10\u001b[0m\n\u001b[0;32m      7\u001b[0m     \u001b[38;5;28;01mbreak\u001b[39;00m\n\u001b[0;32m      9\u001b[0m \u001b[38;5;66;03m# Preprocess frame\u001b[39;00m\n\u001b[1;32m---> 10\u001b[0m img \u001b[38;5;241m=\u001b[39m \u001b[43mpreprocess_frame\u001b[49m\u001b[43m(\u001b[49m\u001b[43mframe\u001b[49m\u001b[43m)\u001b[49m\n\u001b[0;32m     12\u001b[0m \u001b[38;5;66;03m# Perform inference\u001b[39;00m\n\u001b[0;32m     13\u001b[0m pred \u001b[38;5;241m=\u001b[39m model(img)[\u001b[38;5;241m0\u001b[39m]\n",
      "Cell \u001b[1;32mIn[4], line 10\u001b[0m, in \u001b[0;36mpreprocess_frame\u001b[1;34m(frame, img_size)\u001b[0m\n\u001b[0;32m      8\u001b[0m img \u001b[38;5;241m=\u001b[39m letterbox(frame, new_shape\u001b[38;5;241m=\u001b[39mimg_size)[\u001b[38;5;241m0\u001b[39m]\n\u001b[0;32m      9\u001b[0m img \u001b[38;5;241m=\u001b[39m img[:, :, ::\u001b[38;5;241m-\u001b[39m\u001b[38;5;241m1\u001b[39m]\u001b[38;5;241m.\u001b[39mtranspose(\u001b[38;5;241m2\u001b[39m, \u001b[38;5;241m0\u001b[39m, \u001b[38;5;241m1\u001b[39m)  \u001b[38;5;66;03m# Convert BGR to RGB and reshape\u001b[39;00m\n\u001b[1;32m---> 10\u001b[0m img \u001b[38;5;241m=\u001b[39m \u001b[43mtorch\u001b[49m\u001b[38;5;241;43m.\u001b[39;49m\u001b[43mfrom_numpy\u001b[49m\u001b[43m(\u001b[49m\u001b[43mimg\u001b[49m\u001b[43m)\u001b[49m\u001b[38;5;241m.\u001b[39mto(device)\u001b[38;5;241m.\u001b[39mfloat() \u001b[38;5;241m/\u001b[39m \u001b[38;5;241m255.0\u001b[39m  \u001b[38;5;66;03m# Normalize\u001b[39;00m\n\u001b[0;32m     11\u001b[0m \u001b[38;5;28;01mif\u001b[39;00m img\u001b[38;5;241m.\u001b[39mndimension() \u001b[38;5;241m==\u001b[39m \u001b[38;5;241m3\u001b[39m:\n\u001b[0;32m     12\u001b[0m     img \u001b[38;5;241m=\u001b[39m img\u001b[38;5;241m.\u001b[39munsqueeze(\u001b[38;5;241m0\u001b[39m)\n",
      "\u001b[1;31mValueError\u001b[0m: At least one stride in the given numpy array is negative, and tensors with negative strides are not currently supported. (You can probably work around this by making a copy of your array  with array.copy().) "
     ]
    }
   ],
   "source": [
    "# Initialize webcam\n",
    "cap = cv2.VideoCapture(0)\n",
    "\n",
    "while True:\n",
    "    ret, frame = cap.read()\n",
    "    if not ret:\n",
    "        break\n",
    "    \n",
    "    # Preprocess frame\n",
    "    img = preprocess_frame(frame)\n",
    "    \n",
    "    # Perform inference\n",
    "    pred = model(img)[0]\n",
    "    pred = non_max_suppression(pred, 0.25, 0.45, classes=None, agnostic=False)\n",
    "    \n",
    "    # Draw bounding boxes\n",
    "    for det in pred:\n",
    "        if len(det):\n",
    "            det[:, :4] = scale_coords(img.shape[2:], det[:, :4], frame.shape).round()\n",
    "            for *xyxy, conf, cls in det:\n",
    "                label = f\"Skin Cancer {conf:.2f}\"\n",
    "                plot_one_box(xyxy, frame, label=label, color=(255, 0, 0), line_thickness=2)\n",
    "                \n",
    "                # Save the detected region as an image\n",
    "                detected_area = frame[int(xyxy[1]):int(xyxy[3]), int(xyxy[0]):int(xyxy[2])]\n",
    "                cv2.imwrite(\"detected_area.jpg\", detected_area)\n",
    "                print(\"Detected area saved!\")\n",
    "\n",
    "    # Show the frame\n",
    "    cv2.imshow(\"YOLOv7 Detection\", frame)\n",
    "    \n",
    "    # Break on 'q' key press\n",
    "    if cv2.waitKey(1) & 0xFF == ord('q'):\n",
    "        break\n",
    "\n",
    "cap.release()\n",
    "cv2.destroyAllWindows()\n"
   ]
  }
 ],
 "metadata": {
  "kernelspec": {
   "display_name": "Torch_CV",
   "language": "python",
   "name": "python3"
  },
  "language_info": {
   "codemirror_mode": {
    "name": "ipython",
    "version": 3
   },
   "file_extension": ".py",
   "mimetype": "text/x-python",
   "name": "python",
   "nbconvert_exporter": "python",
   "pygments_lexer": "ipython3",
   "version": "3.10.14"
  }
 },
 "nbformat": 4,
 "nbformat_minor": 2
}
